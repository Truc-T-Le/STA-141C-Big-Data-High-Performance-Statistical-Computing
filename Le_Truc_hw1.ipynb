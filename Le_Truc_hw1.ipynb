{
 "cells": [
  {
   "cell_type": "markdown",
   "id": "cefef923",
   "metadata": {},
   "source": [
    "Name: Truc Le <br>\n",
    "ID: 914920690 <br>\n",
    "Course: STA 141C <br>\n",
    "Section: AO1 <br>\n",
    "Teammate: Salem Berekat"
   ]
  },
  {
   "cell_type": "code",
   "execution_count": 357,
   "id": "03462da6",
   "metadata": {},
   "outputs": [],
   "source": [
    "import matplotlib.pyplot as plt\n",
    "import numpy as np\n",
    "import pandas as pd\n",
    "from scipy.linalg import lu\n",
    "import struct\n",
    "from itertools import islice\n",
    "import math \n",
    "import time"
   ]
  },
  {
   "cell_type": "markdown",
   "id": "63e57f62",
   "metadata": {},
   "source": [
    "# 1. Some linear algebra exercises"
   ]
  },
  {
   "cell_type": "markdown",
   "id": "5880d92e",
   "metadata": {},
   "source": [
    "## 1. Show the following facts about triangular matrices. Note that a unit triangular matrix is a triangular matrix with all diagonal entries being 1.\n"
   ]
  },
  {
   "cell_type": "markdown",
   "id": "751fffdb",
   "metadata": {},
   "source": [
    "### a) The product of two upper (lower) triangular matrices is upper (lower) triangular."
   ]
  },
  {
   "cell_type": "markdown",
   "id": "086dd914",
   "metadata": {},
   "source": [
    "Let A, B $\\in$ $R^{nxn}$ and are upper triangular matrices. <br>\n",
    "Let C $\\in$ $R^{nxn}$ be the dot product of the two upper triangular matrices, A and B. <br>\n",
    "\n",
    "The dot product of the two matrices are as follow: <br>\n",
    "* $c_{i,j} = \\sum_{k=1}^{n} a_{ik}b_{kj}$ <br>\n",
    "\n",
    "For the diagonal of matrix C, when i = j <br>\n",
    "* $c_{j,j} = \\sum_{k=1}^{n} a_{jk}b_{kj}$\n",
    "\n",
    "* When k > j, then the entries for $b_{kj} = 0$, making the dot product of $a_{jk}b_{kj} = 0$ <br>\n",
    "* Similarly, when k < j, then the entries for $a_{jk} = 0$, making the dit product of $a_{jk}b_{kj} = 0$ <br>\n",
    "\n",
    "Therefore, <br>\n",
    "$c_{j,j} = \\sum_{k=1}^{n} a_{jj}b_{jj}$ \n",
    "\n",
    "When i > j, either $a_{ij}$ or $b_{kj}$ are 0 entries for all k, resulting in $c_{ij} = 0$. Therefore, the matrix C $\\in$ $R^{nxn}$ and an upper triangular matrix."
   ]
  },
  {
   "cell_type": "markdown",
   "id": "02ce655f",
   "metadata": {},
   "source": [
    "### b) The inverse of an upper (lower) triangular matrix is upper (lower) triangular."
   ]
  },
  {
   "cell_type": "markdown",
   "id": "a7b213fc",
   "metadata": {},
   "source": [
    "Let A $\\in$ $R^{nxn}$ be an upper triangular matrix. <br>\n",
    "\n",
    "**Proof**: <br>\n",
    "\n",
    "We know that:\n",
    "* $LL^{-1}$ = $I_{nxn}$ <br>\n",
    "\n",
    "The upper triangular elementary matrices of the $L^{-1}$ with dimension $R^{nxn}$ are invertible: <br>\n",
    "\n",
    "* $L^{-1}$ = $E_{n}E_{n-1}E_{n-2}...E_{1}$\n",
    "\n",
    "\n",
    "Therefore: <br>\n",
    "\n",
    "* $E_{n}E_{n-1}E_{n-2}...E_{1}$A = $I_{nxn}$ <br>\n",
    "\n",
    "* $E_{n}E_{n-1}E_{n-2}...E_{1}$ = $A^{-1}$\n",
    "\n",
    "Hence, $A^{-1}$ is also a $R^{nxn}$ upper triangular matrices\n",
    "\n",
    "\n",
    "\n",
    "\n",
    "\n",
    "\n"
   ]
  },
  {
   "cell_type": "markdown",
   "id": "fd2d8004",
   "metadata": {},
   "source": [
    "### c) The product of two unit upper (lower) triangular matrices is unit upper (lower) triangular."
   ]
  },
  {
   "cell_type": "markdown",
   "id": "5519f067",
   "metadata": {},
   "source": [
    "Let A, B $\\in$ $R^{nxn}$ and are two unit upper triangular matrices. <br>\n",
    "Let C $\\in$ $R^{nxn}$ be the dot product of the two upper triangular matrices, A and B. <br>\n",
    "\n",
    "The dot product of the two matrices are as follow: <br>\n",
    "$c_{i,j} = \\sum_{k=1}^{n} a_{ik}b_{kj}$ <br>\n",
    "\n",
    "For the diagonal of matrix C, when i = j <br>\n",
    "$c_{j,j} = \\sum_{k=1}^{n} a_{jk}b_{kj}$\n",
    "\n",
    "* When k > j, then the entries for $b_{kj} = 0$, making the dot product of $a_{jk}b_{kj} = 0$ <br>\n",
    "* Similarly, when k < j, then the entries for $a_{jk} = 0$, making the dit product of $a_{jk}b_{kj} = 0$ <br>\n",
    "\n",
    "<br>\n",
    "$c_{j,j} = \\sum_{k=1}^{n} a_{jj}b_{jj}$ <br>\n",
    "\n",
    "* for unit matrices triangular matrices\n",
    "    * $a_{jj} = 1$ and $b_{jj} = 1$, \n",
    "* therefore:\n",
    "    * $c_{j,j} = \\sum_{k=1}^{n} a_{jj}b_{jj} = 1$\n",
    "\n",
    "When i > j, either $a_{ij}$ or $b_{kj}$ are 0 entries for all k, resulting in $c_{ij} = 0$. Therefore, the matrix C $\\in$ $R^{nxn}$ and an unit upper triangular matrix."
   ]
  },
  {
   "cell_type": "markdown",
   "id": "2cb9a48d",
   "metadata": {},
   "source": [
    "### d) The inverse of a unit upper (lower) triangular matrix is unit upper (lower) triangular."
   ]
  },
  {
   "cell_type": "markdown",
   "id": "e3462736",
   "metadata": {},
   "source": [
    "Let A $\\in$ $R^{nxn}$ be an unit upper triangular matrix. <br>\n",
    "\n",
    "**Proof:** <br>\n",
    "\n",
    "We know that:\n",
    "* $LL^{-1}$ = $I_{nxn}$ <br>\n",
    "\n",
    "The unit upper triangular elementary matrices of the $L^{-1}$ with dimension $R^{nxn}$ are invertible: <br>\n",
    "\n",
    "* $L^{-1}$ = $E_{n}E_{n-1}E_{n-2}...E_{1}$\n",
    "\n",
    "Therefore: <br>\n",
    "\n",
    "* $E_{n}E_{n-1}E_{n-2}...E_{1}$A = $I_{nxn}$ <br>\n",
    "\n",
    "* $E_{n}E_{n-1}E_{n-2}...E_{1}$ = $A^{-1}$\n",
    "\n",
    "Hence, $A^{-1}$ is also a $R^{nxn}$ unit upper triangular matrices\n",
    "\n",
    "\n",
    "\n",
    "\n",
    "\n",
    "\n",
    "\n"
   ]
  },
  {
   "cell_type": "markdown",
   "id": "fa9cd510",
   "metadata": {},
   "source": [
    "### e) An orthogonal upper (lower) triangular matrix is diagonal."
   ]
  },
  {
   "cell_type": "markdown",
   "id": "05a0d6f6",
   "metadata": {},
   "source": [
    "Let A be a square orthogonal matrix, therefore, its properties are:\n",
    "* A $\\in$ $R^{nxn}$\n",
    "* $A^{-1} = A$\n",
    "* $A^{-1} = A^{T}$\n",
    "\n",
    "Since the inverse of an upper triangular matrix must be an upper triangular matrix, the $A^{T}$ is both an upper and lower triangular matrix, it is a lower triangulat matrix because it is a transpose of an upper triangular matrix. This imply that the matrix A is diagonal."
   ]
  },
  {
   "cell_type": "markdown",
   "id": "6716432c",
   "metadata": {},
   "source": [
    "## 2. Show the following:"
   ]
  },
  {
   "cell_type": "markdown",
   "id": "ad0b2e76",
   "metadata": {},
   "source": [
    "### a) The Sherman-Morrison formula"
   ]
  },
  {
   "cell_type": "markdown",
   "id": "6b59fe21",
   "metadata": {},
   "source": [
    "$(A + uu^{T})^{-1}$ = $A^{-1}$ - $\\frac{A^{-1}uu^{T}A^{-1}}{1 + u^{T}A^{-1}u}$\n",
    "* A $\\in R^{nxn}$ is nonsingular matrix, invertible, and rank-one perturbation\n",
    "* u $\\in R^{n}$\n",
    "\n",
    "Proving that:\n",
    "* $(A + uu^{'})$$(A^{-1}$ - $\\frac{A^{-1}uu^{'}A^{-1}}{1 + u^{'}A^{-1}u})$= I\n",
    "\n",
    "Let XY = $(A + uu^{'})$$(A^{-1}$ - $\\frac{A^{-1}uu^{'}A^{-1}}{1 + u^{'}A^{-1}u})$\n",
    "\n",
    "* = $AA^{-1}$ + $uu^{'}A^{-1}$ - $\\frac{AA^{-1}uu^{'}A^{-1} + uu^{'}A^{-1}uu^{'}A^{-1}}{1 + u^{'}A^{-1}u}$\n",
    "\n",
    "\n",
    "* = I + $uu^{'}A^{-1}$ - $\\frac{Iuu^{'}A^{-1} + uu^{'}A^{-1}uu^{'}A^{-1}}{1 + u^{'}A^{-1}u}$\n",
    "\n",
    "\n",
    "* = I + $uu^{'}A^{-1}$ - $\\frac{uu^{'}A^{-1} + uu^{'}A^{-1}uu^{'}A^{-1}}{1 + u^{'}A^{-1}u}$\n",
    "\n",
    "\n",
    "* = I + $uu^{'}A^{-1}$ - $\\frac{u(1 + u^{'}A^{-1}u)u^{'}A^{-1}}{1 + u^{'}A^{-1}u}$\n",
    "\n",
    "\n",
    "* = I + $uu^{'}A^{-1}$ - $uu^{'}A^{-1}$\n",
    "\n",
    "\n",
    "* XY = I\n",
    "\n",
    "\n",
    "* I = $(A + uu^{'})$$(A^{-1}$ - $\\frac{A^{-1}uu^{'}A^{-1}}{1 + u^{'}A^{-1}u})$\n",
    "\n",
    "\n",
    "* $(A + uu^{'})^{-1}$ = $A^{-1}$ - $\\frac{A^{-1}uu^{'}A^{-1}}{1 + u^{'}A^{-1}u}$"
   ]
  },
  {
   "cell_type": "markdown",
   "id": "51c5e3ad",
   "metadata": {},
   "source": [
    "### b) The Woodbury formula"
   ]
  },
  {
   "cell_type": "markdown",
   "id": "22be697b",
   "metadata": {},
   "source": [
    "$(A + UV^{'})^{-1}$ = $A^{-1} - A^{-1}U(I_{m} + V^{'}A^{-1}U)^{-1}V^{'}A^{-1}$\n",
    "\n",
    "* A $\\in R^{nxn}$ is nonsingular matrix, invertible, and rank-one perturbation\n",
    "* U,V $\\in R^{nxm}$\n",
    "* $I_{m}$ $\\in R^{m}$ is an identity matrix\n",
    "\n",
    "\n",
    "Proving that $(A + UV^{'})$ $(A^{-1} - A^{-1}U(I_{m} + V^{'}A^{-1}U)^{-1}V^{'}A^{-1})$ = I\n",
    "\n",
    "\n",
    "Let XY = $(A + UV^{'})$ $(A^{-1} - A^{-1}U(I_{m} + V^{'}A^{-1}U)^{-1}V^{'}A^{-1})$\n",
    "\n",
    "\n",
    "* $= AA^{-1} - AA^{-1}U(I_{m} + V^{'}A^{-1}U)^{-1}V^{'}A^{-1} + UV^{'}A^{-1} - UV^{'}A^{-1}U(I_{m} + V^{'}A^{-1}U)^{-1}V^{'}A^{-1}$\n",
    "\n",
    "\n",
    "\n",
    "* $= (I - U(I_{m} + V^{'}A^{-1}U)^{-1}V^{'}A^{-1}) +  (UV^{'}A^{-1} - UV^{'}A^{-1}U(I_{m} + V^{'}A^{-1}U)^{-1}V^{'}A^{-1})$\n",
    "\n",
    "\n",
    "* = $(I + UVA^{-1}) - (U(I + VA^{-1}U)^{-1}VA^{-1} + UVA^{-1}U(I +VA^{-1}U)^{-1}VA^{-1})$ \n",
    "\n",
    "\n",
    "* = $I + UVA^{-1} - (U + UVA^{-1}U)(I + VA^{-1}U)^{-1}VA^{-1}$\n",
    "\n",
    "\n",
    "* = $I + UVA^{-1} - U(I + VA^{-1}U)(I + VA^{-1}U)^{-1}VA^{-1}$\n",
    "\n",
    "\n",
    "* = $I + UVA^{-1} - UVA^{-1}$\n",
    "\n",
    "\n",
    "* = $XY = I$\n",
    "\n",
    "\n",
    "* $ I = (A + UV^{'})$ $(A^{-1} - A^{-1}U(I_{m} + V^{'}A^{-1}U)^{-1}V^{'}A^{-1})$\n",
    "\n",
    "\n",
    "* $(A + UV^{'})^{-1}$ = $A^{-1} - A^{-1}U(I_{m} + V^{'}A^{-1}U)^{-1}V^{'}A^{-1}$\n"
   ]
  },
  {
   "cell_type": "markdown",
   "id": "5fdb87bb",
   "metadata": {},
   "source": [
    "### c) The binomial inversion theorem"
   ]
  },
  {
   "cell_type": "markdown",
   "id": "bba11dc1",
   "metadata": {},
   "source": [
    "$(A + UBV^{'})^{-1} = A^{-1} - A^{-1}U(B^{-1} + V^{'}A^{-1}U)^{-1}V^{'}A^{-1}$\n",
    "* A $\\in R^{nxn}$ and B $\\in R^{mxm}$ are nonsingular matrices,\n",
    "* $I_{m}$ $\\in R^{m}$ is an identity matrix \n",
    "\n",
    "\n",
    "Proving that $(A + UBV^{'})(A^{-1} - A^{-1}U(B^{-1} + V^{'}A^{-1}U)^{-1}V^{'}A^{-1}) = I$\n",
    "\n",
    "let $XY = (A + UBV^{'})(A^{-1} - A^{-1}U(B^{-1} + V^{'}A^{-1}U)^{-1}V^{'}A^{-1})$\n",
    "\n",
    "* = $AA^{-1} - AA^{-1}U(B^{-1} + AV^{'}A^{-1}U)^{-1}V^{'}A^{-1} + UBV^{'}A^{-1} - UBV^{'}A^{-1}U(B^{-1} + UBV^{'}V^{'}A^{-1}U)^{-1}V^{'}A^{-1}$ \n",
    "\n",
    "\n",
    "* $= I - IU(B^{-1} + AV^{'}A^{-1}U)^{-1}V^{'}A^{-1} + UBV^{'}A^{-1} - UBV^{'}A^{-1}U(B^{-1} + UBV^{'}V^{'}A^{-1}U)^{-1}V^{'}A^{-1}$ \n",
    "\n",
    "* $= I + UBV^{'}A^{-1} - U(B^{-1} + AV^{'}A^{-1}U)^{-1}V^{'}A^{-1} - UBV^{'}A^{-1}U(B^{-1} + UBV^{'}V^{'}A^{-1}U)^{-1}V^{'}A^{-1}$ \n",
    "\n",
    "\n",
    "* $= I + UBV^{'}A^{-1} - U(B + BV^{'}A^{-1}UB(B + BV^{'}A^{-1}UB)^{-1}BV^{'}A^{-1}$\n",
    "\n",
    "\n",
    "* $= I + UBV^{'}A^{-1} - UBV^{'}A^{-1}$\n",
    "\n",
    "\n",
    "* $XY = I$\n",
    "\n",
    "\n",
    "* $I = (A + UBV^{'})(A^{-1} - A^{-1}U(B^{-1} + V^{'}A^{-1}U)^{-1}V^{'}A^{-1})$\n",
    "\n",
    "\n",
    "* $(A + UBV^{'})^{-1} = A^{-1} - A^{-1}U(B^{-1} + V^{'}A^{-1}U)^{-1}V^{'}A^{-1}$\n",
    "\n",
    "\n",
    "\n",
    "When $A = I_{n}$ and $B = I_{m}$:\n",
    "\n",
    "* $(I - UV^{'})^{-1} = I - U(I + V^{'}U)^{-1}V^{'}$\n",
    "* Drastically simplifying the equations since there are less variables to worry about within the calculation \n",
    "\n",
    "\n",
    "When m = 1, then:\n",
    "* let u and v be vectors from their respective matrices U and V.\n",
    "* $(I - uv)^{-1} = I - \\frac{uv}{(1 + uv)}$\n",
    "* In the case of m=1, we only need to use the vectors u and v to solve the matric inverses, rather than having to use the entirety of the matrices U and V. "
   ]
  },
  {
   "cell_type": "markdown",
   "id": "70fd7fc6",
   "metadata": {},
   "source": [
    "## 3. Show the matrix determinant lemma\n",
    "\n",
    "$det(A + UV^{'}) = det(A)det(I_{m} + V^{'}A^{-1}U)$\n",
    "* A $\\in R^{nxn}$\n",
    "* U,V $\\in R^{nxm}$\n",
    "\n",
    "\n",
    "$A + uv^{'} = A(I + A^{-1}uv^{'})$<br>\n",
    "$det(A + uv^{'}) = det(A(I_{m} + v^{'}A^{-1}u))$\n",
    "* = $det(A)det(I_{m} + v^{'}A^{-1}u)$\n",
    "    * $det(I_{m} + v^{'}A^{-1}u)$ \n",
    "    * let $A = I_{m}$\n",
    "    * $det(I_{m} + v^{'}u)$ \n",
    "    $ = $\n",
    "    $$\\begin{bmatrix} I & 0 \\\\ v^{'} & 1 \\end{bmatrix}             \n",
    "    \\begin{bmatrix} I + uv^{'} & u \\\\ 0 & 1 \\end{bmatrix}\n",
    "    \\begin{bmatrix} I & 0 \\\\ v^{'} & 1 \\end{bmatrix}\n",
    "    = \n",
    "    \\begin{bmatrix} I & 0 \\\\ 0 & 1 + v^{'}u \\end{bmatrix}$$\n",
    "* = $(1 + v^{'}A^{-1}u)$\n",
    "\n",
    "Hence,\n",
    "* $det(A + uv^{'}) = det(A)(1 + v^{'}A^{-1}u)$"
   ]
  },
  {
   "cell_type": "markdown",
   "id": "deec1c0b",
   "metadata": {},
   "source": [
    "\n",
    "# 2 Programming exercises"
   ]
  },
  {
   "cell_type": "markdown",
   "id": "e54e083a",
   "metadata": {},
   "source": [
    "### 4. Let a=0.7, b=0.2, and c=0.1\n"
   ]
  },
  {
   "cell_type": "code",
   "execution_count": 358,
   "id": "eedca8bf",
   "metadata": {},
   "outputs": [],
   "source": [
    "# Initializing the variable with its appropiate int values\n",
    "a = 0.7\n",
    "b = 0.2\n",
    "c = 0.1"
   ]
  },
  {
   "cell_type": "markdown",
   "id": "33e94f80",
   "metadata": {},
   "source": [
    "1. (a + b) + c = 1"
   ]
  },
  {
   "cell_type": "code",
   "execution_count": 359,
   "id": "491d302b",
   "metadata": {},
   "outputs": [
    {
     "data": {
      "text/plain": [
       "0.9999999999999999"
      ]
     },
     "execution_count": 359,
     "metadata": {},
     "output_type": "execute_result"
    }
   ],
   "source": [
    "(a + b) + c"
   ]
  },
  {
   "cell_type": "markdown",
   "id": "772995a3",
   "metadata": {},
   "source": [
    "2. a + (b + c)"
   ]
  },
  {
   "cell_type": "code",
   "execution_count": 360,
   "id": "654c74d9",
   "metadata": {},
   "outputs": [
    {
     "data": {
      "text/plain": [
       "1.0"
      ]
     },
     "execution_count": 360,
     "metadata": {},
     "output_type": "execute_result"
    }
   ],
   "source": [
    "a + (b + c)"
   ]
  },
  {
   "cell_type": "markdown",
   "id": "1269ff46",
   "metadata": {},
   "source": [
    "3. (a + c) + b"
   ]
  },
  {
   "cell_type": "code",
   "execution_count": 361,
   "id": "ebba314b",
   "metadata": {},
   "outputs": [
    {
     "data": {
      "text/plain": [
       "1.0"
      ]
     },
     "execution_count": 361,
     "metadata": {},
     "output_type": "execute_result"
    }
   ],
   "source": [
    "(a + c) + b"
   ]
  },
  {
   "cell_type": "markdown",
   "id": "348ef51c",
   "metadata": {},
   "source": [
    "* Explain what you found."
   ]
  },
  {
   "cell_type": "markdown",
   "id": "7358f5a3",
   "metadata": {},
   "source": [
    "Only a + (b + c) and (a + c) + b equals to 1.0 while (a + b) + c is a continous 0.9999999 decimal. \n",
    "\n",
    "The result for problem (a) comes out to be 0.9999 rather than 1.0 is due to the internal representation of 0.1 in bits. Due to the fact that the binary of 0.1 goes to the 1369 place when python can only store up to 64-bits, means that the floating-point approximation will be less than 0.1. The binary eqivalent of 0.1 will be close to 0.1 but never reach the value due to the lack of binary storage space. Therefore, when we add 0.1 alone to a larger floating point value, the resulting value would always be less than the actual value. \n",
    "\n"
   ]
  },
  {
   "cell_type": "markdown",
   "id": "d89c7392",
   "metadata": {},
   "source": [
    "### 5. Create the vector v = (969, 971, 972, . . . , 1022, 1023), which has 54 elements"
   ]
  },
  {
   "cell_type": "code",
   "execution_count": 362,
   "id": "2a3e7a8b",
   "metadata": {},
   "outputs": [],
   "source": [
    "# A function that takes three arguments: min, max, and step, to create a customized vector\n",
    "def vector(mini, maxi, step):\n",
    "    v = []\n",
    "    i = mini\n",
    "    while i <= maxi:\n",
    "        v.append(i)\n",
    "        i += step\n",
    "    return v\n",
    "\n",
    "# a summation function that takes two arguments: the starting index and the vector function\n",
    "def sum(i,vector):\n",
    "    num = 0 \n",
    "    for v in vector[i:]:\n",
    "        num = num + (2**v)\n",
    "    return num\n",
    "            "
   ]
  },
  {
   "cell_type": "markdown",
   "id": "40b59d26",
   "metadata": {},
   "source": [
    "* \\begin{equation}\n",
    "\\sum_{i=1}^{54} 2^{v_{i}}\n",
    "\\end{equation}"
   ]
  },
  {
   "cell_type": "code",
   "execution_count": 363,
   "id": "6263d713",
   "metadata": {},
   "outputs": [
    {
     "name": "stdout",
     "output_type": "stream",
     "text": [
      "179769313486231585783329745242102944220865915302134242104801930069088822049132857039678747649997371558725200148282140634302672658333178512561752459655489972529838397712786934476288037223531902825608779341177537812204758820982652898146886972738651264941212339564475904472144978749089612198939118253764199317504\n"
     ]
    }
   ],
   "source": [
    "print(sum(0, vector(969, 1023, 1)))"
   ]
  },
  {
   "cell_type": "markdown",
   "id": "a478370d",
   "metadata": {},
   "source": [
    "* \\begin{equation}\n",
    "\\sum_{i=2}^{54} 2^{v_{i}}\n",
    "\\end{equation}"
   ]
  },
  {
   "cell_type": "code",
   "execution_count": 364,
   "id": "aad405e8",
   "metadata": {},
   "outputs": [
    {
     "name": "stdout",
     "output_type": "stream",
     "text": [
      "179769313486231580793728971405303415079934132710037826936173778980444968292764750946649017977587207096330286416692887910946555547851940402630657488671505820681908902000708383676273854845817711531764475730270069855571366959622842914819860834936475292719074168444365510704342711559699508093042880177904174497792\n"
     ]
    }
   ],
   "source": [
    "print(sum(1, vector(969, 1023, 1)))"
   ]
  },
  {
   "cell_type": "markdown",
   "id": "b9ac4c84",
   "metadata": {},
   "source": [
    "* \\begin{equation}\n",
    "2^{v_{1}} + \\sum_{i=2}^{54} 2^{v_{i}}\n",
    "\\end{equation}"
   ]
  },
  {
   "cell_type": "code",
   "execution_count": 365,
   "id": "9f16180e",
   "metadata": {},
   "outputs": [
    {
     "name": "stdout",
     "output_type": "stream",
     "text": [
      "179769313486231585783329745242102944220865915302134242104801930069088822049132857039678747649997371558725200148282140634302672658333178512561752459655489972529838397712786934476288037223531902825608779341177537812204758820982652898146886972738651264941212339564475904472144978749089612198939118253764199317504\n"
     ]
    }
   ],
   "source": [
    "print((2**969) + sum(1, vector(969, 1023, 1)))"
   ]
  },
  {
   "cell_type": "markdown",
   "id": "a2ed376a",
   "metadata": {},
   "source": [
    "Explain what you found."
   ]
  },
  {
   "cell_type": "markdown",
   "id": "ed0485da",
   "metadata": {},
   "source": [
    "The value for problem a and c are the same, while the value for problem b is a close approximation to the value of a."
   ]
  },
  {
   "cell_type": "markdown",
   "id": "afc689ab",
   "metadata": {},
   "source": [
    "### 6. Create the vector x = (0.988, 0.989, 0.990, · · · 1.010; 1.011; 1.012)."
   ]
  },
  {
   "cell_type": "markdown",
   "id": "0b6df87f",
   "metadata": {},
   "source": [
    "* Plot the polynomial $y=x^7 − 7x^6 + 21x^5 − 35x^4 + 35x^3 − 21x^2 + 7x−1$ at each point in x\n",
    "\n"
   ]
  },
  {
   "cell_type": "code",
   "execution_count": 386,
   "id": "69402dff",
   "metadata": {},
   "outputs": [
    {
     "data": {
      "image/png": "[encoded data removed]",
      "text/plain": [
       "<Figure size 432x288 with 1 Axes>"
      ]
     },
     "metadata": {
      "needs_background": "light"
     },
     "output_type": "display_data"
    }
   ],
   "source": [
    "# this function creates the first polynomial and takes the vector function as its argument\n",
    "def poly(x):\n",
    "    y = []\n",
    "    for i in x:\n",
    "        y_data = (\n",
    "            (i**7)\n",
    "                  - 7*(i**6)\n",
    "                  + 21*(i**5)\n",
    "                  - 35*(i**4)\n",
    "                  + 35*(i**3)\n",
    "                  - 21*(i**2)\n",
    "                  + 7*i\n",
    "                  - 1)\n",
    "        y.append(y_data)\n",
    "    return(y)\n",
    "\n",
    "# initializing the variables to plot the scatterplot, using y data point taking from the poly function  \n",
    "x = vector(0.988, 1.012, 0.0010)\n",
    "y = poly(vector(0.988, 1.012, 0.0010))\n",
    "plt.scatter(x, y)\n",
    "plt.show()"
   ]
  },
  {
   "cell_type": "markdown",
   "id": "6bfaae74",
   "metadata": {},
   "source": [
    "* Plot the polynomial $y = (x − 1)^7$ at each point in x"
   ]
  },
  {
   "cell_type": "code",
   "execution_count": 367,
   "id": "e8317339",
   "metadata": {},
   "outputs": [
    {
     "data": {
      "image/png": "[encoded data removed]",
      "text/plain": [
       "<Figure size 432x288 with 1 Axes>"
      ]
     },
     "metadata": {
      "needs_background": "light"
     },
     "output_type": "display_data"
    }
   ],
   "source": [
    "# this function creates the second polynomial and takes the vector function as its argument\n",
    "def poly2(x):\n",
    "    y = []\n",
    "    for i in x:\n",
    "        y_data = ((i - 1)**7)\n",
    "        y.append(y_data)\n",
    "    return(y)\n",
    "\n",
    "# initializing the variables to plot the scatterplot, using y data point taking from the poly2 function   \n",
    "y2 = poly2(vector(0.988, 1.012, 0.0010))\n",
    "plt.scatter(x, y2)\n",
    "plt.show()"
   ]
  },
  {
   "cell_type": "markdown",
   "id": "cd50b8c7",
   "metadata": {},
   "source": [
    "* Explain what you found."
   ]
  },
  {
   "cell_type": "markdown",
   "id": "882de295",
   "metadata": {},
   "source": [
    "The polynomial $y=x^7 − 7x^6 + 21x^5 − 35x^4 + 35x^3 − 21x^2 + 7x−1$ is a close estimation of the polynomial $y = (x − 1)^7.$  The shape of the first equation is dictated by the largest exponent in the polynomia which is degree 7, the variation of the points from the dominant shape is due to the following exponents within the equation. In the case of the second equation, the polynomial only have one exponent in the equation, which is degree 7, therefore the shape is more distinct and neat.\n"
   ]
  },
  {
   "cell_type": "markdown",
   "id": "a022b338",
   "metadata": {},
   "source": [
    "### 7. Basic exercises using numpy or R: let u = (1, 2, 3, 3, 2, 1)′"
   ]
  },
  {
   "cell_type": "code",
   "execution_count": 368,
   "id": "b7e2bdd4",
   "metadata": {},
   "outputs": [
    {
     "data": {
      "text/plain": [
       "array([[1],\n",
       "       [2],\n",
       "       [3],\n",
       "       [3],\n",
       "       [2],\n",
       "       [1]])"
      ]
     },
     "execution_count": 368,
     "metadata": {},
     "output_type": "execute_result"
    }
   ],
   "source": [
    "# creating the a vector that has 6 rows\n",
    "u = np.array([[1, 2, 3, 3, 2, 1]]).T\n",
    "u"
   ]
  },
  {
   "cell_type": "markdown",
   "id": "8ce361d2",
   "metadata": {},
   "source": [
    "(a) Compute $U = I − \\frac{2}{u^{'}u}uu′$ (This type of matrix is known as an ‘elementary reflector’ or a ‘Householder transformation.’)"
   ]
  },
  {
   "cell_type": "code",
   "execution_count": 369,
   "id": "fb1a9dcb",
   "metadata": {},
   "outputs": [
    {
     "name": "stdout",
     "output_type": "stream",
     "text": [
      "[[ 0.92857143 -0.14285714 -0.21428571 -0.21428571 -0.14285714 -0.07142857]\n",
      " [-0.14285714  0.71428571 -0.42857143 -0.42857143 -0.28571429 -0.14285714]\n",
      " [-0.21428571 -0.42857143  0.35714286 -0.64285714 -0.42857143 -0.21428571]\n",
      " [-0.21428571 -0.42857143 -0.64285714  0.35714286 -0.42857143 -0.21428571]\n",
      " [-0.14285714 -0.28571429 -0.42857143 -0.42857143  0.71428571 -0.14285714]\n",
      " [-0.07142857 -0.14285714 -0.21428571 -0.21428571 -0.14285714  0.92857143]]\n"
     ]
    }
   ],
   "source": [
    "# creating a 6x6 identity matrix using numpy\n",
    "I = np.identity(6)\n",
    "# solving for the elementary reflector matrix \n",
    "U = I - ((2 / u.T.dot(u)) * u.dot(u.T))\n",
    "print(U)\n"
   ]
  },
  {
   "cell_type": "markdown",
   "id": "1cf65b05",
   "metadata": {},
   "source": [
    "(b) Let C = UU (matrix-matrix multiplication), the matrix product of U and itself. Find the largest and smallest off-diagonal elements of C."
   ]
  },
  {
   "cell_type": "code",
   "execution_count": 370,
   "id": "e56aba6e",
   "metadata": {},
   "outputs": [
    {
     "name": "stdout",
     "output_type": "stream",
     "text": [
      "[[ 1.00000000e+00 -2.46401539e-17 -5.55111512e-17 -4.38991247e-17\n",
      "  -2.77555756e-17 -1.92589708e-17]\n",
      " [-2.46401539e-17  1.00000000e+00 -7.59030027e-17 -1.11022302e-16\n",
      "  -4.48195902e-17 -2.77555756e-17]\n",
      " [-5.55111512e-17 -7.59030027e-17  1.00000000e+00 -7.22211406e-17\n",
      "  -1.11022302e-16 -4.48903953e-17]\n",
      " [-4.38991247e-17 -1.11022302e-16 -7.22211406e-17  1.00000000e+00\n",
      "  -8.97807905e-17 -8.32667268e-17]\n",
      " [-2.08166817e-17 -5.55111512e-17 -9.71445147e-17 -5.55111512e-17\n",
      "   1.00000000e+00 -4.16333634e-17]\n",
      " [-1.38777878e-17 -2.77555756e-17 -5.55111512e-17 -8.32667268e-17\n",
      "  -4.16333634e-17  1.00000000e+00]]\n",
      "The maximum value for non-diagonal element is:-1.3877787807814457e-17 \n",
      "The minimum value for non-diagonal element is:-1.1102230246251565e-16 \n"
     ]
    }
   ],
   "source": [
    "C = U @ U\n",
    "C2 = C.copy()\n",
    "\n",
    "#function to mask the diagonal based on what we are trying to find \n",
    "def mask(C2, mask):\n",
    "    np.fill_diagonal(C2, mask)\n",
    "    return C2\n",
    "\n",
    "print(C2)\n",
    "\n",
    "print(\"The maximum value for non-diagonal element is:{i} \".format(i= mask(C2, -1).max()))\n",
    "print(\"The minimum value for non-diagonal element is:{i} \".format(i=mask(C2, 0).min()))\n"
   ]
  },
  {
   "cell_type": "markdown",
   "id": "2bdeab62",
   "metadata": {},
   "source": [
    "(c) Find the largest and smallest diagonal elements of C"
   ]
  },
  {
   "cell_type": "code",
   "execution_count": 371,
   "id": "1e0302e2",
   "metadata": {},
   "outputs": [
    {
     "name": "stdout",
     "output_type": "stream",
     "text": [
      "The maximum value for diagonal element is:1.0 \n",
      "The minimum value for diagonal element is:0.9999999999999998 \n"
     ]
    }
   ],
   "source": [
    "print(\"The maximum value for diagonal element is:{i} \".format(i= np.diagonal(C).max()))\n",
    "print(\"The minimum value for diagonal element is:{i} \".format(i= np.diagonal(C).min()))"
   ]
  },
  {
   "cell_type": "markdown",
   "id": "46af6d73",
   "metadata": {},
   "source": [
    "(d) Compute Uu. (matrix-vector multiplication)"
   ]
  },
  {
   "cell_type": "code",
   "execution_count": 372,
   "id": "e4425db3",
   "metadata": {},
   "outputs": [
    {
     "name": "stdout",
     "output_type": "stream",
     "text": [
      "[[-1.]\n",
      " [-2.]\n",
      " [-3.]\n",
      " [-3.]\n",
      " [-2.]\n",
      " [-1.]]\n"
     ]
    }
   ],
   "source": [
    "U2 = U.dot(u)\n",
    "print(U2)"
   ]
  },
  {
   "cell_type": "markdown",
   "id": "5cb0636c",
   "metadata": {},
   "source": [
    "(e) Compute the scalar $max_{i} \\ \\sum_{j} |U_{ij}|$"
   ]
  },
  {
   "cell_type": "code",
   "execution_count": 373,
   "id": "f666d43d",
   "metadata": {},
   "outputs": [
    {
     "name": "stdout",
     "output_type": "stream",
     "text": [
      "2.2857142857142856\n"
     ]
    }
   ],
   "source": [
    "# function convert all entries in each row into absolute value and sum each row\n",
    "# save the sum value into a list and return the largest value in the list\n",
    "def infnorm (U):\n",
    "    rmax = []\n",
    "    for p in U:\n",
    "        rmax.append(np.absolute(p).sum())\n",
    "    return print(max(rmax))\n",
    "\n",
    "infnorm(U)\n"
   ]
  },
  {
   "cell_type": "markdown",
   "id": "e66bc389",
   "metadata": {},
   "source": [
    "(f) Print the third row of U."
   ]
  },
  {
   "cell_type": "code",
   "execution_count": 374,
   "id": "d5568958",
   "metadata": {},
   "outputs": [
    {
     "name": "stdout",
     "output_type": "stream",
     "text": [
      "[-0.21428571 -0.42857143  0.35714286 -0.64285714 -0.42857143 -0.21428571]\n"
     ]
    }
   ],
   "source": [
    "# Third row of U\n",
    "U_2 = U[2]\n",
    "print(U_2)"
   ]
  },
  {
   "cell_type": "markdown",
   "id": "29e2dba7",
   "metadata": {},
   "source": [
    "(g) Print the elements of the second column below the diagonal.\n"
   ]
  },
  {
   "cell_type": "code",
   "execution_count": 375,
   "id": "ddcfbac2",
   "metadata": {},
   "outputs": [
    {
     "name": "stdout",
     "output_type": "stream",
     "text": [
      "[-0.42857143 -0.42857143 -0.28571429 -0.14285714]\n"
     ]
    }
   ],
   "source": [
    "U2_1 = U[2:,1]\n",
    "print(U2_1)"
   ]
  },
  {
   "cell_type": "markdown",
   "id": "1aed4779",
   "metadata": {},
   "source": [
    "(h) Let A be the first three columns of U. Compute P = AA′.\n"
   ]
  },
  {
   "cell_type": "code",
   "execution_count": 376,
   "id": "00a14e91",
   "metadata": {},
   "outputs": [
    {
     "name": "stdout",
     "output_type": "stream",
     "text": [
      "[[ 0.92857143 -0.14285714 -0.21428571]\n",
      " [-0.14285714  0.71428571 -0.42857143]\n",
      " [-0.21428571 -0.42857143  0.35714286]\n",
      " [-0.21428571 -0.42857143 -0.64285714]\n",
      " [-0.14285714 -0.28571429 -0.42857143]\n",
      " [-0.07142857 -0.14285714 -0.21428571]]\n",
      "[[ 9.28571429e-01 -1.42857143e-01 -2.14285714e-01 -3.54025199e-17\n",
      "  -2.88884563e-17 -1.44442281e-17]\n",
      " [-1.42857143e-01  7.14285714e-01 -4.28571429e-01 -1.52938886e-17\n",
      "  -2.26576127e-18 -1.13288064e-18]\n",
      " [-2.14285714e-01 -4.28571429e-01  3.57142857e-01 -4.07837029e-17\n",
      "  -4.30494642e-17 -2.15247321e-17]\n",
      " [-3.54025199e-17 -1.52938886e-17 -4.07837029e-17  6.42857143e-01\n",
      "   4.28571429e-01  2.14285714e-01]\n",
      " [-2.88884563e-17 -2.26576127e-18 -4.30494642e-17  4.28571429e-01\n",
      "   2.85714286e-01  1.42857143e-01]\n",
      " [-1.44442281e-17 -1.13288064e-18 -2.15247321e-17  2.14285714e-01\n",
      "   1.42857143e-01  7.14285714e-02]]\n"
     ]
    }
   ],
   "source": [
    "# getting the first three columns of the matrix U\n",
    "A = U[:,:3]\n",
    "print(A)\n",
    "\n",
    "# creating the P matrix\n",
    "P = A @ A.T\n",
    "print(P)"
   ]
  },
  {
   "cell_type": "markdown",
   "id": "36f78c08",
   "metadata": {},
   "source": [
    "(i) Show that P is idempotent by recomputing (e) with P P − P  "
   ]
  },
  {
   "cell_type": "code",
   "execution_count": 377,
   "id": "0d7c3660",
   "metadata": {},
   "outputs": [
    {
     "name": "stdout",
     "output_type": "stream",
     "text": [
      "[[ 1.11022302e-16 -2.77555756e-17  0.00000000e+00 -2.47817639e-17\n",
      "  -1.38777878e-17 -6.93889390e-18]\n",
      " [-2.77555756e-17  0.00000000e+00 -5.55111512e-17  1.58603289e-17\n",
      "   1.58603289e-17  7.93016446e-18]\n",
      " [ 0.00000000e+00 -5.55111512e-17 -5.55111512e-17 -8.92143502e-18\n",
      "   1.98254112e-18  9.91270558e-19]\n",
      " [-2.47817639e-17  1.58603289e-17 -8.92143502e-18 -1.11022302e-16\n",
      "  -5.55111512e-17 -2.77555756e-17]\n",
      " [-1.38777878e-17  1.58603289e-17  1.98254112e-18 -5.55111512e-17\n",
      "  -5.55111512e-17 -2.77555756e-17]\n",
      " [-6.93889390e-18  7.93016446e-18  9.91270558e-19 -2.77555756e-17\n",
      "  -2.77555756e-17 -1.38777878e-17]]\n",
      "2.43852557194454e-16\n"
     ]
    }
   ],
   "source": [
    "x = P @ P - P\n",
    "print(x)\n",
    "infnorm(x)"
   ]
  },
  {
   "cell_type": "markdown",
   "id": "92d126a1",
   "metadata": {},
   "source": [
    "P is idempotent since the infinity norm of PP-P is equal to $2.43852557194454^{-16}$, which is close to 0. For a matrix P to be idempotent, its $P^{2}$ needs to be equal or exceedingly close to P which our infinity norm calculation show in this case."
   ]
  },
  {
   "cell_type": "markdown",
   "id": "4876fcd7",
   "metadata": {},
   "source": [
    "(j) Let B be the last three columns of U. Compute Q = BB′"
   ]
  },
  {
   "cell_type": "code",
   "execution_count": 378,
   "id": "50e5bef5",
   "metadata": {},
   "outputs": [
    {
     "name": "stdout",
     "output_type": "stream",
     "text": [
      "[[-0.21428571 -0.14285714 -0.07142857]\n",
      " [-0.42857143 -0.28571429 -0.14285714]\n",
      " [-0.64285714 -0.42857143 -0.21428571]\n",
      " [ 0.35714286 -0.42857143 -0.21428571]\n",
      " [-0.42857143  0.71428571 -0.14285714]\n",
      " [-0.21428571 -0.14285714  0.92857143]]\n",
      "[[ 7.14285714e-02  1.42857143e-01  2.14285714e-01 -2.38967009e-17\n",
      "  -7.25751658e-18 -8.21338462e-18]\n",
      " [ 1.42857143e-01  2.85714286e-01  4.28571429e-01 -4.77934019e-17\n",
      "  -1.45150332e-17 -1.64267692e-17]\n",
      " [ 2.14285714e-01  4.28571429e-01  6.42857143e-01 -2.83220159e-17\n",
      "  -2.00378263e-17 -2.46401539e-17]\n",
      " [-2.38967009e-17 -4.77934019e-17 -2.83220159e-17  3.57142857e-01\n",
      "  -4.28571429e-01 -2.14285714e-01]\n",
      " [-7.25751658e-18 -1.45150332e-17 -2.00378263e-17 -4.28571429e-01\n",
      "   7.14285714e-01 -1.42857143e-01]\n",
      " [-8.21338462e-18 -1.64267692e-17 -2.46401539e-17 -2.14285714e-01\n",
      "  -1.42857143e-01  9.28571429e-01]]\n"
     ]
    }
   ],
   "source": [
    "# getting the last three columns of the matrix U\n",
    "B = U[:,3:]\n",
    "print(B)\n",
    "\n",
    "# creating the Q matrix\n",
    "Q = B @ B.T\n",
    "print(Q)"
   ]
  },
  {
   "cell_type": "markdown",
   "id": "2d52efad",
   "metadata": {},
   "source": [
    "(k) Show that Q is idempotent by recomputing (e) with QQ − Q"
   ]
  },
  {
   "cell_type": "code",
   "execution_count": 379,
   "id": "55b06f20",
   "metadata": {},
   "outputs": [
    {
     "name": "stdout",
     "output_type": "stream",
     "text": [
      "3.039660360150381e-16\n"
     ]
    }
   ],
   "source": [
    "x2 = Q @ Q - Q\n",
    "infnorm(x2)"
   ]
  },
  {
   "cell_type": "markdown",
   "id": "22939387",
   "metadata": {},
   "source": [
    "Q is idempotent since the infinity norm of QQ-Q is equal to $3.039660360150381^{-16}$, which is close to 0. For a matrix Q to be idempotent, its $Q^{2}$ needs to be equal or exceedingly close to P which our infinity norm calculation show."
   ]
  },
  {
   "cell_type": "markdown",
   "id": "59fc47ab",
   "metadata": {},
   "source": [
    "(l) Compute P + Q"
   ]
  },
  {
   "cell_type": "code",
   "execution_count": 380,
   "id": "0cc39d34",
   "metadata": {},
   "outputs": [
    {
     "name": "stdout",
     "output_type": "stream",
     "text": [
      "[[ 1.00000000e+00 -2.77555756e-17 -5.55111512e-17 -5.92992209e-17\n",
      "  -3.61459728e-17 -2.26576127e-17]\n",
      " [-2.77555756e-17  1.00000000e+00 -5.55111512e-17 -6.30872905e-17\n",
      "  -1.67807944e-17 -1.75596499e-17]\n",
      " [-5.55111512e-17 -5.55111512e-17  1.00000000e+00 -6.91057189e-17\n",
      "  -6.30872905e-17 -4.61648860e-17]\n",
      " [-5.92992209e-17 -6.30872905e-17 -6.91057189e-17  1.00000000e+00\n",
      "  -1.11022302e-16 -5.55111512e-17]\n",
      " [-3.61459728e-17 -1.67807944e-17 -6.30872905e-17 -1.11022302e-16\n",
      "   1.00000000e+00  0.00000000e+00]\n",
      " [-2.26576127e-17 -1.75596499e-17 -4.61648860e-17 -5.55111512e-17\n",
      "   0.00000000e+00  1.00000000e+00]]\n"
     ]
    }
   ],
   "source": [
    "# adding the two matrices togther\n",
    "print(P+Q)"
   ]
  },
  {
   "cell_type": "markdown",
   "id": "775b04b0",
   "metadata": {},
   "source": [
    "Adding both matrices P and Q together return a symmetric matrix with the diagonal elements equal to 1."
   ]
  },
  {
   "cell_type": "markdown",
   "id": "6a080d23",
   "metadata": {},
   "source": [
    "### 8. Read in the matrix in the file ‘oringp.dat’ on the failure of O-rings leading to the Challenger disaster. The columns are flight number, date, number of O-rings, number failed, and temperature at launch. Compute the correlation between number of failures and temperature at launch, deleting the last, missing observation (the disaster)."
   ]
  },
  {
   "cell_type": "code",
   "execution_count": 381,
   "id": "60778fcb",
   "metadata": {},
   "outputs": [
    {
     "data": {
      "text/plain": [
       "-0.5613284258418356"
      ]
     },
     "execution_count": 381,
     "metadata": {},
     "output_type": "execute_result"
    }
   ],
   "source": [
    "# read the .dat file\n",
    "with open('/Users/trucle/Desktop/oringp.dat', \"r\") as f:\n",
    "    data = f.read().splitlines()\n",
    "\n",
    "# split the strings into multiple pieces at every whitespace and save into a nested list  \n",
    "l = []\n",
    "i = 0\n",
    "while i in range(len(data)):\n",
    "    c = data[i].split()\n",
    "    #print(c)\n",
    "    l.append(data[i].split())\n",
    "    i += 1\n",
    "\n",
    "\n",
    "# convert the nested list into a dataframe\n",
    "# delete the row that have the missing observation and keep the new modificed dataframe\n",
    "# convert the datatype of columns Failed and Temp from object to int\n",
    "df = pd.DataFrame(l, columns = ['Flight', 'Date', 'O-rings', 'Failed', 'Temp'])\n",
    "df.drop([23], inplace= True)\n",
    "df[[\"Failed\", \"Temp\"]] = df[[\"Failed\", \"Temp\"]].apply(pd.to_numeric)\n",
    "\n",
    "#calculate the correlation between numbers of failures and the temperature at launch\n",
    "df['Failed'].corr(df['Temp'])\n"
   ]
  },
  {
   "cell_type": "markdown",
   "id": "d2ab4281",
   "metadata": {},
   "source": [
    "According to the correlation coefficient calculated between the numbers of failures and the temperature at launch, it is observed that the lower the temperature the more likely the launch will experience failures."
   ]
  },
  {
   "cell_type": "markdown",
   "id": "d2e7bbcc",
   "metadata": {},
   "source": [
    "### 9. Write a function named solve power(A,k,b) to solve the linear equation $A^{k}x = b$, where $A ∈ R^{n×n}$ is nonsingular and $b ∈ R^{n}$"
   ]
  },
  {
   "cell_type": "code",
   "execution_count": 382,
   "id": "31506e06",
   "metadata": {
    "scrolled": true
   },
   "outputs": [
    {
     "name": "stdout",
     "output_type": "stream",
     "text": [
      "[[ 0.5507979 ]\n",
      " [ 0.44716483]\n",
      " [ 0.28782521]\n",
      " [ 0.52488685]\n",
      " [ 0.8203466 ]\n",
      " [ 0.47526627]\n",
      " [-0.06177859]\n",
      " [-0.01590498]\n",
      " [-0.11343746]\n",
      " [ 0.34519965]]\n"
     ]
    }
   ],
   "source": [
    "# creating a n by n non-singular matrix using numpy\n",
    "# seed() allow for the matrix generated by the random function to consistently appear\n",
    "def square_matrix(size):\n",
    "    np.random.seed(2)\n",
    "    A = np.random.random((size, size))\n",
    "    return A\n",
    "\n",
    "A = square_matrix(10)\n",
    "\n",
    "#Creating a n x 1 vector using numpy\n",
    "def b_vector(size):\n",
    "    np.random.seed(3)\n",
    "    b = np.random.random((size, 1))\n",
    "    return b\n",
    "\n",
    "b = b_vector(10)\n",
    "\n",
    "def solve_power(A,k,b):\n",
    "    # raising the matrix A to the power of k\n",
    "    Ak = np.power(A, k)\n",
    "    # get the lu decomposition of the square matrix A\n",
    "    p, l, u = lu(Ak)\n",
    "\n",
    "\n",
    "    # The following 4 lines of code was taken from:[LU Factorization]\n",
    "    # see Bibliography at the bottom for more detail\n",
    "\n",
    "    # ***Codes from website starts\n",
    "    # initializing empty array to append the solution to iteratively\n",
    "    x =  np.zeros([len(b),1],dtype=float)\n",
    "\n",
    "\n",
    "    # forward substitution \n",
    "    x[0] = float(b[0] / l[0][0])\n",
    "    for i in range(1,len(b)):\n",
    "        x[i] = (b[i] - l[i,:i].dot(x[:i]))/l[i,i]\n",
    "\n",
    "    # ***code from website ends***\n",
    "    return x\n",
    "\n",
    "print(solve_power(A,4,b))\n",
    "\n"
   ]
  },
  {
   "cell_type": "markdown",
   "id": "18e24dae",
   "metadata": {},
   "source": [
    "**Reference:** [LU factorization](https://johnfoster.pge.utexas.edu/numerical-methods-book/LinearAlgebra_LU.html#Solving-equations-after-$\\mathbf{LU}$-factorization) "
   ]
  },
  {
   "cell_type": "markdown",
   "id": "2f4a468f",
   "metadata": {},
   "source": [
    "## 10. Consider the mixed effect model"
   ]
  },
  {
   "cell_type": "markdown",
   "id": "1f069015",
   "metadata": {},
   "source": [
    "### a)"
   ]
  },
  {
   "cell_type": "markdown",
   "id": "26cf27d0",
   "metadata": {},
   "source": [
    " y ~ N($\\mu, \\sigma_{1}^{2}ZZ^{'} + \\sigma_{0}^{2}I_{n}$ )\n",
    " \n",
    " * The mean of the effect model y is $\\mu$ because the predicted samples of this model, $x^{'}_{i}\\beta$, is equal to $\\mu_{i}$.\n",
    " \n",
    " * The variance of the effect model is equal to $\\sigma_{1}^{2}ZZ^{'} + \\sigma_{0}^{2}I_{n}$ is because:\n",
    " \n",
    "     * The variance of $z^{'}_{i}\\gamma$ = $(z')'\\sigma_{1}^{2}(z')I_{q}$ = $ZZ''\\sigma_{1}^{2}$\n",
    "     \n",
    "     * The varuance of $\\epsilon_{i}$ = $\\sigma_{0}^{2}I_{n}$\n",
    "     \n",
    "     * when we add the variance of both $z^{'}_{i}\\gamma$ and $epsilon_{i}$ we get $\\sigma_{1}^{2}ZZ^{'} + \\sigma_{0}^{2}I_{n}$ as the variance for the mixed effect model\n",
    "     "
   ]
  },
  {
   "cell_type": "markdown",
   "id": "bc0bc8eb",
   "metadata": {},
   "source": [
    "y ~ N($\\mu, \\sigma_{1}^{2}ZZ^{'} + \\sigma_{0}^{2}I_{n}$ ) :\n",
    "\n",
    "\n",
    "Density function of the multivariate normal distribution:\n",
    "$f_{x}(x_{1},...,x_{k})$ = $(2\\pi)^{-\\frac{n}{2}}det(\\Sigma)^{-\\frac{1}{2}}e^{-\\frac{1}{2}(x-\\mu)^{'}\\Sigma^{-1}(x-\\mu)}$\n",
    "\n",
    "\n",
    "Plug everything into the multivariate normal density function:\n",
    "\n",
    "$f_{y}$ = $(2\\pi)^{-\\frac{n}{2}}det( \\sigma_{1}^{2}ZZ^{'} + \\sigma_{0}^{2}I_{n})^{-\\frac{1}{2}}e^{-\\frac{1}{2}(y-\\mu)^{'}( \\sigma_{1}^{2}ZZ^{'} + \\sigma_{0}^{2}I_{n})^{-1}(y-\\mu)}$\n",
    "\n",
    "\n",
    "Take the log of the density function:\n",
    "\n",
    "$log(f_{y})$ = $log((2\\pi)^{-\\frac{n}{2}}det( \\sigma_{1}^{2}ZZ^{'} + \\sigma_{0}^{2}I_{n})^{-\\frac{1}{2}}e^{-\\frac{1}{2}(y-\\mu)^{'}( \\sigma_{1}^{2}ZZ^{'} + \\sigma_{0}^{2}I_{n})^{-1}(y-\\mu)})$\n",
    "\n",
    "$= -\\frac{n}{2}log(2\\pi) - \\frac{1}{2}log(det( \\sigma_{1}^{2}ZZ^{'} + \\sigma_{0}^{2}I_{n})) - \\frac{1}{2}(y-\\mu)^{'}( \\sigma_{1}^{2}ZZ^{'} + \\sigma_{0}^{2}I_{n})^{-1}(y-\\mu)$\n",
    "\n"
   ]
  },
  {
   "cell_type": "markdown",
   "id": "d874905f",
   "metadata": {},
   "source": [
    "### b)\n"
   ]
  },
  {
   "cell_type": "code",
   "execution_count": 383,
   "id": "5acbd19e",
   "metadata": {},
   "outputs": [],
   "source": [
    "# Generating random matrices and vectors\n",
    "np.random.seed(40)\n",
    "epi = np.random.rand(50,1)\n",
    "simga0 = (np.var(epi, ddof=1))\n",
    "np.random.seed(40)\n",
    "gamma = np.random.rand(5,1)\n",
    "\n",
    "# Generating fixed matrices and vectors\n",
    "np.random.seed(45)\n",
    "Z = np.random.rand(50,5)\n",
    "np.random.seed(46)\n",
    "beta = np.random.rand(50,1)\n",
    "np.random.seed(47)\n",
    "x = np.random.rand(50,50)\n",
    "mu = x.T.dot(beta)\n",
    "simga1 = (np.var(Z.dot(gamma), ddof=1)) \n",
    "y = x.T.dot(beta) + Z.dot(gamma) + epi\n"
   ]
  },
  {
   "cell_type": "code",
   "execution_count": 385,
   "id": "a94088a1",
   "metadata": {},
   "outputs": [
    {
     "name": "stdout",
     "output_type": "stream",
     "text": [
      "[[-35.93285469 -35.70706175 -35.7555827  -35.71051066 -35.75393262]\n",
      " [-35.70706175 -35.71653585 -35.62628709 -35.61263073 -35.64804585]\n",
      " [-35.7555827  -35.62628709 -35.77033016 -35.65788801 -35.6979875 ]\n",
      " [-35.71051066 -35.61263073 -35.65788801 -35.72693303 -35.69440751]\n",
      " [-35.75393262 -35.64804585 -35.6979875  -35.69440751 -35.81937341]]\n",
      "The time it took to run the code was 0.005095958709716797\n"
     ]
    }
   ],
   "source": [
    "# This is a nested function that contains the woodbury function and the matrix determinant lemma function\n",
    "# this will return the log-likelihood function \n",
    "def dmvnorm_lowrank(y, mu, Z, sigma0, sigma1, log = False):\n",
    "    n = Z.shape[0]\n",
    "    \n",
    "    # This is a function that uses the woodbury formula to calculate the inverse of the perturbed matrix UV'.\n",
    "    # n, q are the dimmension of matrix Z\n",
    "    def woodbury(sigma0, sigma1, Z):\n",
    "        n = Z.shape[0]\n",
    "        q = Z.shape[1]\n",
    "        A = sigma0 * np.identity(n)\n",
    "        U = sigma1 * Z\n",
    "        VT = np.transpose(Z)\n",
    "        wb = (\n",
    "            np.linalg.inv(A)\n",
    "              - np.linalg.inv(A) @ U @ np.linalg.inv(np.identity(q) \n",
    "                + VT @ np.linalg.inv(A) @ U) @ VT @ np.linalg.inv(A)\n",
    "        ) \n",
    "        return wb\n",
    "\n",
    "    # This function calculate the matrix determinant lemma  \n",
    "    def det_lemma(sigma0, sigma1, Z):\n",
    "        n = Z.shape[0]\n",
    "        A = sigma0 * np.identity(n)\n",
    "        U = sigma1 * Z\n",
    "        VT = np.transpose(Z)\n",
    "        det_lm = (\n",
    "            np.linalg.det(A) \n",
    "            * (1 + VT @ (np.linalg.inv(A) @ U) )\n",
    "        )\n",
    "        return det_lm\n",
    "    \n",
    "\n",
    "    # if the log is equal to False, return the log-likelihood function\n",
    "    # else, return the exponent of the likelihood function\n",
    "    if log == False:\n",
    "        x = (\n",
    "            ((-n/2) * np.log(2 * math.pi))\n",
    "         - ((1/2) * np.log(det_lemma(sigma0, sigma1, Z)))\n",
    "         - ((1/2) * (np.transpose((y-mu)).dot(woodbury(sigma0, sigma1, Z))).dot((y-mu)))\n",
    "        )\n",
    "        return x\n",
    "    else:\n",
    "        y = np.exp(x)\n",
    "    \n",
    "start_time = time.time()\n",
    "print(dmvnorm_lowrank(y, mu, Z, sigma0, sigma1, log = False))\n",
    "time_elapsed = (time.time() - start_time)\n",
    "print(\"The time it took to run the code was {}\".format(time_elapsed))"
   ]
  },
  {
   "cell_type": "markdown",
   "id": "1f627219",
   "metadata": {},
   "source": [
    "11 .  In class we learnt about the BLAS and how it has become a de facto standard for basic linear algebra operations. Both R and numpy use the BLAS and LAPACK libraries extensively to accelerate certain types of operations. Apart from *, %*%, eigen, and qr, find out what other common functions use the BLAS and LAPACK routines to speed up calculations?"
   ]
  },
  {
   "cell_type": "markdown",
   "id": "aa529139",
   "metadata": {},
   "source": [
    "Other common function that use the BLAS and LAPACK routines are:\n",
    "* multi_dot function that compute the dot products for multiple arrays in a single function call and select for the fastest evaluation order\n",
    "\n",
    "* eigh function compute and return the eigenvalues and vectors of a complex Hermitian or a real symmetric matrix.\n",
    "\n",
    "* matrix_rank function that uses svd to compute the rank of the matri\n",
    "\n",
    "* lstsq function compute and return the least square solution vector to a linear matrix problem \n",
    "\n",
    "All of these functions are some of the functions in numpy that use BLAS and LAPACK to speed up linear algebra calculations\n",
    "\n",
    "**Reference:** Read [Numpy Documentation](https://numpy.org/doc/stable/reference/routines.linalg.html#the-operator) "
   ]
  },
  {
   "cell_type": "markdown",
   "id": "ed16cdbd",
   "metadata": {},
   "source": [
    "# References\n",
    "\n",
    "1.    Title: LU factorization\n",
    "    * Author: John T. Foster\n",
    "    *    Date: 01/24/2022\n",
    "    *    Type: source code    \n",
    "    *    Code version: 1.0 \n",
    "    *    Availability: <https://johnfoster.pge.utexas.edu/numerical-methods-book/LinearAlgebra_LU.html#Solving-equations-after-$\\mathbf{LU}$-factorization>\n",
    "\n",
    "\n",
    "2.    Title: Linear algebra (numpy.linalg)\n",
    "    *    Author: NumPy Developers\n",
    "    *    Date: 01/24/2022\n",
    "    *    Type: API Reference    \n",
    "    *    Code version: 4.2.0 \n",
    "    *    Availability: <https://numpy.org/doc/stable/reference/routines.linalg.html#the-operator>\n",
    "\n",
    "\n",
    "\n",
    "\n"
   ]
  }
 ],
 "metadata": {
  "kernelspec": {
   "display_name": "Python 3",
   "language": "python",
   "name": "python3"
  },
  "language_info": {
   "codemirror_mode": {
    "name": "ipython",
    "version": 3
   },
   "file_extension": ".py",
   "mimetype": "text/x-python",
   "name": "python",
   "nbconvert_exporter": "python",
   "pygments_lexer": "ipython3",
   "version": "3.8.5"
  }
 },
 "nbformat": 4,
 "nbformat_minor": 5
}
